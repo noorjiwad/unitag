{
 "cells": [
  {
   "cell_type": "code",
   "execution_count": 10,
   "id": "13ed0542",
   "metadata": {},
   "outputs": [],
   "source": [
    "import json\n",
    "import re"
   ]
  },
  {
   "cell_type": "code",
   "execution_count": 11,
   "id": "b6d8767f",
   "metadata": {},
   "outputs": [],
   "source": [
    "# Import python file\n",
    "# Change the load to whatever the class dictionary name is \n",
    "file = open('class dictionary.json')\n",
    "data = json.load(file)"
   ]
  },
  {
   "cell_type": "code",
   "execution_count": 13,
   "id": "5a708d18",
   "metadata": {},
   "outputs": [],
   "source": [
    "# Function that gets all unique tags present in the dataset\n",
    "# Useful when loading the graphical user interface to provide a dropdown instead of a search\n",
    "def get_all_tags():\n",
    "    tags = set()\n",
    "    for key in data:\n",
    "        for tag in data[key]['Tags']:\n",
    "            tags.add(tag)\n",
    "    return tags"
   ]
  },
  {
   "cell_type": "code",
   "execution_count": 18,
   "id": "a22360af",
   "metadata": {},
   "outputs": [
    {
     "name": "stdout",
     "output_type": "stream",
     "text": [
      "[{'Department': 'Psychology', 'CRN': '30512', 'Subject': 'PSYC', 'Course Number': '2011', 'Course Name': 'Abnormal Psychology', 'Tags': ['Psychology', 'Abnormal']}, {'Department': 'Occupational Therapy', 'CRN': '36128', 'Subject': 'OT', 'Course Number': '8202', 'Course Name': 'Occupational Therapy for Adult Rehabilitation', 'Tags': ['OccupationalTherapy', 'AdultRehabilitation']}, {'Department': 'InfSystemsTechnologyManagement', 'CRN': '31265', 'Subject': 'ISTM', 'Course Number': '4121', 'Course Name': 'Database Design & Application', 'Tags': ['Computer Science', 'Database Systems']}]\n",
      "[]\n"
     ]
    }
   ],
   "source": [
    "def search_by_tag(tag):\n",
    "    if type(tag) is not str:\n",
    "        return []\n",
    "    \n",
    "    courses = []\n",
    "    for key in data:\n",
    "        for local_tag in data[key]['Tags']:\n",
    "            check = re.findall(tag.lower(), local_tag.lower())\n",
    "            if len(check) > 0:\n",
    "                courses.append(data[key])\n",
    "                break\n",
    "       \n",
    "    \n",
    "    return courses\n",
    "\n",
    "# Case where search exists\n",
    "print(search_by_tag(\"ab\"))\n",
    "\n",
    "# Case where search doesn't \n",
    "print(search_by_tag(\"asdfasdfasdfewq\"))"
   ]
  }
 ],
 "metadata": {
  "kernelspec": {
   "display_name": "Python 3",
   "language": "python",
   "name": "python3"
  },
  "language_info": {
   "codemirror_mode": {
    "name": "ipython",
    "version": 3
   },
   "file_extension": ".py",
   "mimetype": "text/x-python",
   "name": "python",
   "nbconvert_exporter": "python",
   "pygments_lexer": "ipython3",
   "version": "3.12.10"
  }
 },
 "nbformat": 4,
 "nbformat_minor": 5
}
